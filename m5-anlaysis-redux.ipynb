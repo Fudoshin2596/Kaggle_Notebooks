{
 "cells": [
  {
   "cell_type": "code",
   "execution_count": 1,
   "metadata": {
    "_cell_guid": "b1076dfc-b9ad-4769-8c92-a6c4dae69d19",
    "_uuid": "8f2839f25d086af736a60e9eeb907d3b93b6e0e5"
   },
   "outputs": [
    {
     "name": "stdout",
     "output_type": "stream",
     "text": [
      "/kaggle/input/basedf-m5/BASE_df (1).pkl\n",
      "/kaggle/input/m5-forecasting-accuracy/sales_train_validation.csv\n",
      "/kaggle/input/m5-forecasting-accuracy/sample_submission.csv\n",
      "/kaggle/input/m5-forecasting-accuracy/calendar.csv\n",
      "/kaggle/input/m5-forecasting-accuracy/sell_prices.csv\n",
      "/kaggle/input/m5-forecasting-accuracy/sales_train_evaluation.csv\n",
      "/kaggle/input/m5-fe-grids/price_grid1 (1).pkl\n",
      "/kaggle/input/m5-fe-grids/lag_grid1 (1).pkl\n",
      "/kaggle/input/m5-fe-grids/time_grid (1).pkl\n",
      "/kaggle/input/m5-fe-grids/price_grid2 (1).pkl\n"
     ]
    }
   ],
   "source": [
    "import warnings\n",
    "warnings.filterwarnings('ignore')\n",
    "import matplotlib.pyplot as plt\n",
    "%matplotlib inline\n",
    "import lightgbm as lgb\n",
    "import numpy as np, pandas as pd\n",
    "from  datetime import datetime, timedelta\n",
    "from sklearn.preprocessing import LabelEncoder, MinMaxScaler, StandardScaler\n",
    "from sklearn.model_selection import train_test_split\n",
    "import os, gc, time\n",
    "for dirname, _, filenames in os.walk('/kaggle/input'):\n",
    "    for filename in filenames:\n",
    "        print(os.path.join(dirname, filename))"
   ]
  },
  {
   "cell_type": "code",
   "execution_count": 2,
   "metadata": {
    "_cell_guid": "79c7e3d0-c299-4dcb-8224-4455121ee9b0",
    "_uuid": "d629ff2d2480ee46fbb7e2d37f6b5fab8052498a"
   },
   "outputs": [],
   "source": [
    "from typing import List\n",
    "\n",
    "def optimize_floats(df: pd.DataFrame) -> pd.DataFrame:\n",
    "    floats = df.select_dtypes(include=['float64']).columns.tolist()\n",
    "    df[floats] = df[floats].apply(pd.to_numeric, downcast='float')\n",
    "    return df\n",
    "\n",
    "def optimize_ints(df: pd.DataFrame) -> pd.DataFrame:\n",
    "    ints = df.select_dtypes(include=['int64']).columns.tolist()\n",
    "    df[ints] = df[ints].apply(pd.to_numeric, downcast='integer')\n",
    "    return df\n",
    "\n",
    "def optimize_objects(df: pd.DataFrame, datetime_features: List[str]) -> pd.DataFrame:\n",
    "    for col in df.select_dtypes(include=['object']):\n",
    "        if col not in datetime_features:\n",
    "            num_unique_values = len(df[col].unique())\n",
    "            num_total_values = len(df[col])\n",
    "            if float(num_unique_values) / num_total_values < 0.5:\n",
    "                df[col] = df[col].astype('category')\n",
    "        else:\n",
    "            df[col] = pd.to_datetime(df[col])\n",
    "    return df\n",
    "\n",
    "def optimize(df: pd.DataFrame, datetime_features: List[str] = [], verbose=True):\n",
    "    start_mem = df.memory_usage().sum() / 1024**2\n",
    "    df = optimize_floats(optimize_ints(optimize_objects(df, datetime_features)))\n",
    "    end_mem = df.memory_usage().sum() / 1024**2\n",
    "    if verbose: print('Mem. usage decreased to {:3.2f} Mb ({:.1f}% reduction)'.format(end_mem, 100 * (start_mem - end_mem) / start_mem))\n",
    "    return df"
   ]
  },
  {
   "cell_type": "code",
   "execution_count": 3,
   "metadata": {},
   "outputs": [],
   "source": [
    "#PATHS for Features\n",
    "ORIGINAL = '../input/m5-forecasting-accuracy/'\n",
    "BASE     = '/kaggle/input/basedf-m5/BASE_df (1).pkl'\n",
    "PRICE1   = '/kaggle/input/m5-fe-grids/price_grid1 (1).pkl'\n",
    "TIME     = '/kaggle/input/m5-fe-grids/time_grid (1).pkl'\n",
    "LAGS     = '/kaggle/input/m5-fe-grids/lag_grid1 (1).pkl'\n",
    "PRICE2   = '/kaggle/input/m5-fe-grids/price_grid2 (1).pkl'\n",
    "SUB = ORIGINAL+'sample_submission.csv'\n",
    "\n",
    "target = 'demand'\n",
    "train_boundary = pd.datetime(2015, 2, 27)\n",
    "valid_boundary = pd.datetime(2016, 2, 27)\n",
    "test_boundary = pd.datetime(2016, 3, 27)\n",
    "lgbm_epochs = 50\n",
    "ESR = 150\n",
    "VE = 10 \n",
    "SEED = 657"
   ]
  },
  {
   "cell_type": "code",
   "execution_count": 4,
   "metadata": {},
   "outputs": [],
   "source": [
    "def get_df():\n",
    "    print('Loading from Pickle...')\n",
    "    df = pd.concat([pd.read_pickle(BASE),\n",
    "                    pd.read_pickle(PRICE1).iloc[:,5:],\n",
    "                    pd.read_pickle(TIME).iloc[:,2:],\n",
    "                    pd.read_pickle(LAGS).iloc[:,2:],\n",
    "                    pd.read_pickle(PRICE2).iloc[:,2:]],\n",
    "                    axis=1)\n",
    "    return df"
   ]
  },
  {
   "cell_type": "code",
   "execution_count": 5,
   "metadata": {},
   "outputs": [],
   "source": [
    "def mod_df(df): \n",
    "    del df['Elapsed']\n",
    "    df.sell_price.replace(np.nan, 0, inplace=True)\n",
    "    df.amount.replace(np.nan, 0, inplace=True)\n",
    "    df = optimize(df,['date'])\n",
    "    gc.collect()\n",
    "    return df"
   ]
  },
  {
   "cell_type": "code",
   "execution_count": 6,
   "metadata": {},
   "outputs": [
    {
     "name": "stdout",
     "output_type": "stream",
     "text": [
      "Loading from Pickle...\n",
      "CPU times: user 18.1 s, sys: 38.3 s, total: 56.4 s\n",
      "Wall time: 57 s\n"
     ]
    }
   ],
   "source": [
    "%%time\n",
    "df = get_df()"
   ]
  },
  {
   "cell_type": "code",
   "execution_count": 7,
   "metadata": {},
   "outputs": [
    {
     "name": "stdout",
     "output_type": "stream",
     "text": [
      "Mem. usage decreased to 4838.57 Mb (35.2% reduction)\n",
      "CPU times: user 16.8 s, sys: 12 s, total: 28.8 s\n",
      "Wall time: 28.9 s\n"
     ]
    }
   ],
   "source": [
    "%%time\n",
    "df = mod_df(df)"
   ]
  },
  {
   "cell_type": "code",
   "execution_count": 8,
   "metadata": {
    "collapsed": true
   },
   "outputs": [],
   "source": [
    "# # Memo all columns\n",
    "# ['id', 'item_id', 'dept_id', 'cat_id', 'store_id', 'state_id', 'demand',\n",
    "#        'date', 'event_name_1', 'event_type_1', 'event_name_2', 'event_type_2',\n",
    "#        'snap_CA', 'snap_TX', 'snap_WI', 'wholesale_inventory',\n",
    "#        'wholesale_sales', 'retai_t_f_sales', 'urban_cpi', 'cpi', 'unemp_rate',\n",
    "#        'ppi', 'gdp', 'sell_price', 'amount', 'outlier', 'log_price',\n",
    "#        'log_amount', 'box_amount', 'log_tran_demand', 'rolling_price_std_t5',\n",
    "#        'rolling_price_mean_t5', 'rolling_price_std_t7',\n",
    "#        'rolling_price_mean_t7', 'rolling_price_std_t14',\n",
    "#        'rolling_price_mean_t14', 'rolling_price_std_t28',\n",
    "#        'rolling_price_mean_t28', 'weekday_cos', 'weekday_sin', 'day_month_cos',\n",
    "#        'day_month_sin', 'month_year_cos', 'month_year_sin', 'day_year_cos',\n",
    "#        'day_year_sin', 'Year', 'Month', 'Week', 'Day', 'Dayofweek',\n",
    "#        'Dayofyear', 'Is_month_end', 'Is_month_start', 'Is_quarter_end',\n",
    "#        'Is_quarter_start', 'Is_year_end', 'Is_year_start', 'lag_5', 'lag_7',\n",
    "#        'lag_14', 'lag_28', 'rmean_5_5', 'rmean_7_5', 'rmean_14_5',\n",
    "#        'rmean_28_5', 'rmean_5_7', 'rmean_7_7', 'rmean_14_7', 'rmean_28_7',\n",
    "#        'rmean_5_14', 'rmean_7_14', 'rmean_14_14', 'rmean_28_14', 'theta',\n",
    "#        'amplitude', 'freq', 'sell_price_rel_diff', 'growing_price',\n",
    "#        'sell_price_roll_sd7', 'sell_price_cumrel', 'shift_price_t1',\n",
    "#        'price_change_t1', 'rolling_price_max_t365', 'price_max', 'price_norm',\n",
    "#        'price_nunique', 'item_nunique', 'price_momentum']"
   ]
  },
  {
   "cell_type": "code",
   "execution_count": 9,
   "metadata": {},
   "outputs": [],
   "source": [
    "exclude_cols = ['id', 'item_id', 'demand',\n",
    "       'date','event_type_1','event_type_2',\n",
    "       'wholesale_inventory',\n",
    "       'wholesale_sales', 'retai_t_f_sales', 'urban_cpi', 'cpi', 'unemp_rate',\n",
    "       'ppi', 'gdp', 'sell_price', 'amount', 'outlier', 'log_price',\n",
    "       'log_amount', 'box_amount','day_month_cos',\n",
    "       'day_month_sin', 'month_year_cos', 'month_year_sin', 'day_year_cos',\n",
    "       'day_year_sin', 'Year', 'Month', 'Week', 'Is_month_end', 'Is_month_start', 'Is_quarter_end',\n",
    "       'Is_quarter_start', 'Is_year_end', 'Is_year_start', 'sell_price_rel_diff', 'growing_price','sell_price_cumrel', 'shift_price_t1',\n",
    "       'price_change_t1',\n",
    "       'price_nunique', 'item_nunique', 'price_momentum']\n",
    "\n",
    "features = [col for col in df.columns if col not in exclude_cols]\n",
    "\n",
    "def split_data(df, valid_boundary=valid_boundary, test_boundary=test_boundary, features=features, random=False):\n",
    "    \n",
    "    print('Creating train-valid-test splits.')\n",
    "    index = df['date']\n",
    "    \n",
    "    xtest = df.loc[index > test_boundary]\n",
    "    ytest = xtest[target]  \n",
    "    gc.collect()\n",
    "    \n",
    "    if random:\n",
    "        xtrain, xvalid, ytrain, yvalid = train_test_split(df, df[target], test_size=0.25, random_state=SEED)\n",
    "        del df\n",
    "        gc.collect()\n",
    "    else:\n",
    "        xtrain = df.loc[(index <= valid_boundary) & (index > train_boundary)]\n",
    "        ytrain = xtrain[target]\n",
    "        gc.collect()\n",
    "    \n",
    "        xvalid = df.loc[(index > valid_boundary) & (index <= test_boundary)]\n",
    "        yvalid = xvalid[target]\n",
    "        del df\n",
    "        gc.collect()\n",
    "    \n",
    "    return xtrain, ytrain, xvalid, yvalid, xtest, ytest"
   ]
  },
  {
   "cell_type": "code",
   "execution_count": 10,
   "metadata": {},
   "outputs": [],
   "source": [
    "penalty = 1.15 \n",
    "# Custom loss which gives [1.15] times more penalty when the true targets are more than predictions as compared to less\n",
    "\n",
    "# Objective function (fobj)\n",
    "def custom_asymmetric_train(y_pred, y_true):\n",
    "    y_true = y_true.get_label()\n",
    "    residual = (y_true - y_pred).astype(\"float\")\n",
    "    grad = np.where(residual < 0, -2 * residual, -2 * residual * penalty)\n",
    "    hess = np.where(residual < 0, 2, 2 * penalty)\n",
    "    return grad, hess\n",
    "\n",
    "# Evaluation metric (feval)\n",
    "def custom_asymmetric_valid(y_pred, y_true):\n",
    "    y_true = y_true.get_label()\n",
    "    residual = (y_true - y_pred).astype(\"float\")\n",
    "    loss = np.where(residual < 0, (residual ** 2) , (residual ** 2) * penalty) \n",
    "    return \"custom_asymmetric_eval\", np.mean(loss), False"
   ]
  },
  {
   "cell_type": "code",
   "execution_count": 11,
   "metadata": {},
   "outputs": [],
   "source": [
    "\n",
    "def lgbmodel(df, features=features):\n",
    "    start = time.time()\n",
    "    xtrain, ytrain, xvalid, yvalid, xtest, ytest = split_data(df)\n",
    "    end = time.time()\n",
    "    hours, rem = divmod(end-start, 3600)\n",
    "    minutes, seconds = divmod(rem, 60)\n",
    "    print(\"Time elapsed {:0>2}:{:0>2}:{:05.2f}\".format(int(hours),int(minutes),int(seconds)))\n",
    "    del df\n",
    "    gc.collect()\n",
    "    \n",
    "    lgb_train = lgb.Dataset(xtrain[features], ytrain)\n",
    "    lgb_valid = lgb.Dataset(xvalid[features], yvalid, reference=lgb_train)\n",
    "    \n",
    "    del xtrain, ytrain\n",
    "    gc.collect()\n",
    "    \n",
    "    params = {\n",
    "                'boosting_type': 'gbdt',\n",
    "                'objective': 'tweedie',\n",
    "                'tweedie_variance_power': 1.1,\n",
    "                'metric': 'custom',\n",
    "#                 'subsample': 0.5,\n",
    "#                 'subsample_freq': 1,\n",
    "                'learning_rate': 0.075,\n",
    "                'num_leaves': 2**11-1,\n",
    "                'min_data_in_leaf': 2**12-1,\n",
    "#                 'feature_fraction': 0.5,\n",
    "                'max_bin': 100,\n",
    "#                 'boost_from_average': False,\n",
    "                'verbose': -1,\n",
    "                'seed': SEED,\n",
    "            }\n",
    "\n",
    "    print('Starting training process...')\n",
    "    start = time.time()\n",
    "    gbm = lgb.train(params,\n",
    "                    lgb_train,\n",
    "                    num_boost_round=lgbm_epochs,\n",
    "                    early_stopping_rounds = ESR,\n",
    "                    valid_sets=[lgb_train, lgb_valid],\n",
    "                    verbose_eval=VE,\n",
    "                    fobj=custom_asymmetric_train,\n",
    "                    feval=custom_asymmetric_valid)\n",
    "    end = time.time()\n",
    "    hours, rem = divmod(end-start, 3600)\n",
    "    minutes, seconds = divmod(rem, 60)\n",
    "    print(\"Time elapsed {:0>2}:{:0>2}:{:05.2f}\".format(int(hours),int(minutes),int(seconds)))\n",
    "    \n",
    "    print('Starting prediction process...')\n",
    "    start = time.time()\n",
    "    val_pred = gbm.predict(xvalid[features])\n",
    "    y_pred = gbm.predict(xtest[features])\n",
    "    end = time.time()\n",
    "    hours, rem = divmod(end-start, 3600)\n",
    "    minutes, seconds = divmod(rem, 60)\n",
    "    print(\"Time elapsed {:0>2}:{:0>2}:{:05.2f}\".format(int(hours),int(minutes),int(seconds)))\n",
    "    \n",
    "    print('Done...')\n",
    "    xvalid['demand'] = val_pred\n",
    "    xtest['demand'] = y_pred\n",
    "    \n",
    "    xvalid = xvalid[['id', 'date', 'demand']]\n",
    "    xtest = xtest[['id', 'date', 'demand']]\n",
    "    \n",
    "    gc.collect()\n",
    "    \n",
    "    return xvalid, xtest, gbm"
   ]
  },
  {
   "cell_type": "code",
   "execution_count": 12,
   "metadata": {},
   "outputs": [
    {
     "data": {
      "text/plain": [
       "20"
      ]
     },
     "execution_count": 12,
     "metadata": {},
     "output_type": "execute_result"
    }
   ],
   "source": [
    "gc.collect()"
   ]
  },
  {
   "cell_type": "code",
   "execution_count": 13,
   "metadata": {},
   "outputs": [
    {
     "name": "stdout",
     "output_type": "stream",
     "text": [
      "Creating train-valid-test splits.\n",
      "Time elapsed 00:00:04.00\n",
      "Starting training process...\n",
      "Training until validation scores don't improve for 150 rounds\n",
      "[10]\ttraining's custom_asymmetric_eval: 5.65739\tvalid_1's custom_asymmetric_eval: 5.7309\n",
      "[20]\ttraining's custom_asymmetric_eval: 3.10026\tvalid_1's custom_asymmetric_eval: 2.96976\n",
      "[30]\ttraining's custom_asymmetric_eval: 2.4906\tvalid_1's custom_asymmetric_eval: 2.3226\n",
      "[40]\ttraining's custom_asymmetric_eval: 2.30738\tvalid_1's custom_asymmetric_eval: 2.14673\n",
      "[50]\ttraining's custom_asymmetric_eval: 2.2433\tvalid_1's custom_asymmetric_eval: 2.09145\n",
      "Did not meet early stopping. Best iteration is:\n",
      "[50]\ttraining's custom_asymmetric_eval: 2.2433\tvalid_1's custom_asymmetric_eval: 2.09145\n",
      "Time elapsed 00:07:15.00\n",
      "Starting prediction process...\n",
      "Time elapsed 00:00:12.00\n",
      "Done...\n",
      "CPU times: user 27min 55s, sys: 24.8 s, total: 28min 20s\n",
      "Wall time: 7min 33s\n"
     ]
    }
   ],
   "source": [
    "%%time\n",
    "xvalid, xtest, gbm = lgbmodel(df)"
   ]
  },
  {
   "cell_type": "code",
   "execution_count": 14,
   "metadata": {},
   "outputs": [],
   "source": [
    "def render_plot_importance(gbm, importance_type, max_features=50, ignore_zero=True, precision=3):\n",
    "    print('Plot Feature Importance...')\n",
    "    ax = lgb.plot_importance(gbm, importance_type=importance_type,\n",
    "                             max_num_features=max_features,\n",
    "                             ignore_zero=ignore_zero, figsize=(12, 8),\n",
    "                             precision=precision)\n",
    "    ax.grid(False)\n",
    "    plt.title(\"LightGBM - Feature Importance\", fontsize=15)\n",
    "    plt.show()"
   ]
  },
  {
   "cell_type": "code",
   "execution_count": 15,
   "metadata": {},
   "outputs": [
    {
     "name": "stdout",
     "output_type": "stream",
     "text": [
      "Plot Feature Importance...\n"
     ]
    },
    {
     "data": {
      "image/png": "[encoded data removed]",
      "text/plain": [
       "<Figure size 864x576 with 1 Axes>"
      ]
     },
     "metadata": {
      "needs_background": "light"
     },
     "output_type": "display_data"
    }
   ],
   "source": [
    "render_plot_importance(gbm, importance_type='split')"
   ]
  },
  {
   "cell_type": "code",
   "execution_count": 16,
   "metadata": {},
   "outputs": [],
   "source": [
    "def get_predictions(xtest):\n",
    "    submission = pd.read_csv(SUB)\n",
    "    predictions = xtest.copy()\n",
    "    predictions['demand'] = predictions['demand'].clip(0)\n",
    "    predictions = pd.pivot(predictions, index = 'id', columns = 'date', values = 'demand').reset_index()\n",
    "    predictions.columns = ['id'] + ['F' + str(i + 1) for i in range(28)]\n",
    "\n",
    "    evaluation_rows = [row for row in submission['id'] if 'evaluation' in row] \n",
    "    evaluation = submission[submission['id'].isin(evaluation_rows)]\n",
    "    \n",
    "    submission = submission.assign(id=submission.id.str.replace(\"_validation\", \"\"))\n",
    "    validation = submission[['id']].merge(predictions, on = 'id')\n",
    "    final = pd.concat([validation, evaluation])\n",
    "    final.to_csv('submission.csv', index = False)\n",
    "    del submission, xtest, validation, evaluation, final, predictions\n",
    "    gc.collect"
   ]
  },
  {
   "cell_type": "code",
   "execution_count": 17,
   "metadata": {},
   "outputs": [
    {
     "name": "stdout",
     "output_type": "stream",
     "text": [
      "CPU times: user 3.55 s, sys: 36.2 ms, total: 3.58 s\n",
      "Wall time: 3.64 s\n"
     ]
    }
   ],
   "source": [
    "%%time\n",
    "get_predictions(xtest)"
   ]
  },
  {
   "cell_type": "code",
   "execution_count": 18,
   "metadata": {},
   "outputs": [],
   "source": [
    "# # Add shifted holiday features\n",
    "#     for shift in [1, 2, 3, 4, 5]:\n",
    "#         demand_df['holiday_nl_min_{}'.format(\n",
    "#             shift)] = demand_df['holiday_nl'].shift(-shift).fillna(value=0).astype('int8')\n",
    "#         demand_df['holiday_nl_plus_{}'.format(\n",
    "#             shift)] = demand_df['holiday_nl'].shift(shift).fillna(value=0).astype('int8')\n",
    "#         demand_df['holiday_be_min_{}'.format(\n",
    "#             shift)] = demand_df['holiday_be'].shift(-shift).fillna(value=0).astype('int8')\n",
    "#         demand_df['holiday_be_plus_{}'.format(\n",
    "#             shift)] = demand_df['holiday_be'].shift(shift).fillna(value=0).astype('int8')\n",
    "\n",
    "#     # Generate Aggregation Features\n",
    "#     print('[+] Generating all-time product aggregation features ...')\n",
    "\n",
    "#     num_aggregations = {\n",
    "#         'actual_raw': ['max', 'mean', 'median', 'sum', 'std']}\n",
    "\n",
    "#     full_agg_df = demand_df.groupby('product_id').agg(num_aggregations)\n",
    "#     full_agg_df.columns = [\"_\".join(agg_feature) for agg_feature in full_agg_df.columns.ravel()]\n",
    "#     full_agg_df.reset_index(drop=False, inplace=True)\n",
    "\n",
    "#     print('[+] Generating monthly product aggregation features ...')\n",
    "#     month_agg_df = demand_df.groupby(['product_id', 'month']).agg(num_aggregations)\n",
    "#     month_agg_df.columns = [\"_month_\".join(agg_feature)\n",
    "#                             for agg_feature in month_agg_df.columns.ravel()]\n",
    "#     month_agg_df.reset_index(drop=False, inplace=True)\n",
    "\n",
    "#     print('[+] Generating weekly product aggregation features ...')\n",
    "#     week_agg_df = demand_df.groupby(['product_id', 'weekofyear']).agg(num_aggregations)\n",
    "#     week_agg_df.columns = [\"_week_\".join(agg_feature)\n",
    "#                            for agg_feature in week_agg_df.columns.ravel()]\n",
    "#     week_agg_df.reset_index(drop=False, inplace=True)\n",
    "\n",
    "#     print('[+] Generating monthly product_type aggregation features ...')\n",
    "#     pt_month_agg_df = demand_df.groupby(['product_type_id', 'month']).agg(num_aggregations)\n",
    "#     pt_month_agg_df.columns = [\"_pt_month_\".join(agg_feature)\n",
    "#                                for agg_feature in pt_month_agg_df.columns.ravel()]\n",
    "#     pt_month_agg_df.reset_index(drop=False, inplace=True)"
   ]
  },
  {
   "cell_type": "code",
   "execution_count": 19,
   "metadata": {},
   "outputs": [],
   "source": [
    "# # Define function\n",
    "# def target_encoder(df, column, target, index=None, method='mean'):\n",
    "#     \"\"\"\n",
    "#     Target-based encoding is numerization of a categorical variables via the target variable. Main purpose is to deal\n",
    "#     with high cardinality categorical features without exploding dimensionality. This replaces the categorical variable\n",
    "#     with just one new numerical variable. Each category or level of the categorical variable is represented by a\n",
    "#     summary statistic of the target for that level.\n",
    "\n",
    "#     Args:\n",
    "#         df (pandas df): Pandas DataFrame containing the categorical column and target.\n",
    "#         column (str): Categorical variable column to be encoded.\n",
    "#         target (str): Target on which to encode.\n",
    "#         index (arr): Can be supplied to use targets only from the train index. Avoids data leakage from the test fold\n",
    "#         method (str): Summary statistic of the target. Mean, median or std. deviation.\n",
    "\n",
    "#     Returns:\n",
    "#         arr: Encoded categorical column.\n",
    "\n",
    "#     \"\"\"\n",
    "\n",
    "#     index = df.index if index is None else index # Encode the entire input df if no specific indices is supplied\n",
    "\n",
    "#     if method == 'mean':\n",
    "#         encoded_column = df[column].map(df.iloc[index].groupby(column)[target].mean())\n",
    "#     elif method == 'median':\n",
    "#         encoded_column = df[column].map(df.iloc[index].groupby(column)[target].median())\n",
    "#     elif method == 'std':\n",
    "#         encoded_column = df[column].map(df.iloc[index].groupby(column)[target].std())\n",
    "#     else:\n",
    "#         raise ValueError(\"Incorrect method supplied: '{}'. Must be one of 'mean', 'median', 'std'\".format(method))\n",
    "\n",
    "#     return encoded_column"
   ]
  },
  {
   "cell_type": "code",
   "execution_count": 20,
   "metadata": {},
   "outputs": [],
   "source": [
    "# # Encode entire column of df (without train/test split)\n",
    "# df['product_id_encoded_mean'] = target_encoder(df, column='product_id', target='target', method='mean')\n",
    "# df\n",
    "\n",
    "# # Encode entire column of df (without train/test split)\n",
    "# df['product_type_id_encoded_std'] = target_encoder(df, column='product_type_id', target='target', method='std')\n",
    "# df\n",
    "\n",
    "# # Encode only on train indices of column of df to avoid data leakage in folds\n",
    "# # Note that the value based on the train indices is automatically mapped to the test indices\n",
    "# df['product_id_encoded_median_train'] = target_encoder(df, column='product_id', target='target', index=[0, 1, 2, 3, 4, 5], method='median')\n",
    "# df"
   ]
  },
  {
   "cell_type": "code",
   "execution_count": 21,
   "metadata": {},
   "outputs": [],
   "source": [
    "# class timefold(object):\n",
    "#     \"\"\"\n",
    "#     Cross-validation methods for timeseries data.\n",
    "#     Available methods\n",
    "#         * nested\n",
    "#             Generates train-test pair indices with a growing training window.\n",
    "#             Example (folds=3):\n",
    "#             TRAIN: [0 1 2] TEST: [3 4 5]\n",
    "#             TRAIN: [0 1 2 3 4 5] TEST: [6 7 8]\n",
    "#             TRAIN: [0 1 2s 3 4 5 6 7] TEST: [8 9]\n",
    "#         * window\n",
    "#             Generates train-test pair indices with a moving window.\n",
    "#             Example (folds=3):\n",
    "#             TRAIN: [0 1 2] TEST: [3 4 5]\n",
    "#             TRAIN: [3 4 5] TEST: [6 7 8]\n",
    "#             TRAIN: [6 7] TEST: [8 9]\n",
    "#         * step\n",
    "#             Generates one step ahead train-test pair indices with specified testing size.\n",
    "#             Fold argument is ignored. The maximum possible number of folds is generated based on\n",
    "#             the number of samples and specified testing window size.\n",
    "#             Example (test_size=1):\n",
    "#             TRAIN: [0] TEST: [1]\n",
    "#             TRAIN: [0 1] TEST: [2]\n",
    "#             TRAIN: [0 1 2] TEST: [3]\n",
    "#             TRAIN: [0 1 2 3] TEST: [4]\n",
    "#             TRAIN: [0 1 2 3 4] TEST: [5]\n",
    "#             TRAIN: [0 1 2 3 4 5] TEST: [6]\n",
    "#             TRAIN: [0 1 2 3 4 5 6] TEST: [7]\n",
    "#             TRAIN: [0 1 2 3 4 5 6 7] TEST: [8]\n",
    "#             TRAIN: [0 1 2 3 4 5 6 7 8] TEST: [9]\n",
    "#         * shrink\n",
    "#             Generates train-test pair indices with a shrinking training window and constant testing window.\n",
    "#             Example (folds=3):\n",
    "#             TRAIN: [0 1 2 3 4 5 6 7] TEST: [8 9]\n",
    "#             TRAIN: [3 4 5 6 7] TEST: [8 9]\n",
    "#             TRAIN: [6 7] TEST: [8 9]\n",
    "#         * stratified\n",
    "#             Generates stratified train-test pair indices where a ratio is preserved per fold.\n",
    "#             To be implemented\n",
    "#     \"\"\"\n",
    "\n",
    "#     def __init__(self, folds=10, method='nested', min_train_size=1, min_test_size=1, step_size=1):\n",
    "#         self.folds = folds\n",
    "#         self.method = method\n",
    "#         self.min_train_size = min_train_size\n",
    "#         self.min_test_size = min_test_size\n",
    "#         self.step_size = step_size\n",
    "\n",
    "#     def split(self, X):\n",
    "#         \"\"\"\n",
    "#         Split data into train-test pairs based on specified cross-validation method.\n",
    "#         \"\"\"\n",
    "#         folds = self.folds\n",
    "#         method = self.method\n",
    "#         min_train_size = self.min_train_size\n",
    "#         min_test_size = self.min_test_size\n",
    "#         step_size = self.step_size\n",
    "\n",
    "#         X_obs = X.shape[0]\n",
    "#         indices = np.arange(X_obs)\n",
    "\n",
    "#         if folds >= X_obs:\n",
    "#             raise ValueError(\n",
    "#                 (\"The number of folds {0} must be smaller than the number of observations {1}\".format(folds, X_obs)))\n",
    "\n",
    "#         folds += 1\n",
    "#         fold_indices = np.array_split(indices, folds, axis=0)\n",
    "#         fold_sizes = [len(fold) for fold in fold_indices][:-1]\n",
    "#         train_starts = [fold[0] for fold in fold_indices][:-1]\n",
    "#         train_ends = [fold[0] for fold in fold_indices][1:]\n",
    "\n",
    "#         if method == 'nested':\n",
    "#             for end, size in zip(train_ends, fold_sizes):\n",
    "#                 yield(indices[:end], indices[end:end + size])\n",
    "\n",
    "#         elif method == 'window':\n",
    "#             for start, end, size in zip(train_starts, train_ends, fold_sizes):\n",
    "#                 yield(indices[start:end], indices[end:end + size])\n",
    "\n",
    "#         elif method == 'step':\n",
    "#             steps = np.arange(min_train_size, indices[-1], step_size)\n",
    "#             for step in steps:\n",
    "#                 yield(indices[:step], indices[step:step + min_test_size])\n",
    "\n",
    "\n",
    "#         elif method == 'shrink':\n",
    "#             for start, size in zip(train_starts, fold_sizes):\n",
    "#                 yield(indices[start:train_ends[-1]], indices[-fold_sizes[-1]:])\n",
    "\n",
    "#         elif method == 'stratified':\n",
    "#             pass\n",
    "\n",
    "#         else:\n",
    "#             raise ValueError(\"Unknown method supplied '{0}'. Method must be one of: 'nested', 'window', 'step', \"\n",
    "#                              \"'stratified'\".format(method))"
   ]
  }
 ],
 "metadata": {
  "kernelspec": {
   "display_name": "Python 3",
   "language": "python",
   "name": "python3"
  },
  "language_info": {
   "codemirror_mode": {
    "name": "ipython",
    "version": 3
   },
   "file_extension": ".py",
   "mimetype": "text/x-python",
   "name": "python",
   "nbconvert_exporter": "python",
   "pygments_lexer": "ipython3",
   "version": "3.7.6"
  }
 },
 "nbformat": 4,
 "nbformat_minor": 4
}
